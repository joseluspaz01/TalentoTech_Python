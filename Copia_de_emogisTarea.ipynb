{
  "nbformat": 4,
  "nbformat_minor": 0,
  "metadata": {
    "colab": {
      "provenance": [],
      "include_colab_link": true
    },
    "kernelspec": {
      "name": "python3",
      "display_name": "Python 3"
    },
    "language_info": {
      "name": "python"
    }
  },
  "cells": [
    {
      "cell_type": "markdown",
      "metadata": {
        "id": "view-in-github",
        "colab_type": "text"
      },
      "source": [
        "<a href=\"https://colab.research.google.com/github/joseluspaz01/TalentoTech_Python/blob/main/Copia_de_emogisTarea.ipynb\" target=\"_parent\"><img src=\"https://colab.research.google.com/assets/colab-badge.svg\" alt=\"Open In Colab\"/></a>"
      ]
    },
    {
      "cell_type": "code",
      "execution_count": null,
      "metadata": {
        "id": "xodTIEU9U3Fw"
      },
      "outputs": [],
      "source": []
    },
    {
      "cell_type": "markdown",
      "source": [
        "\n",
        "\n",
        "---\n",
        "\n",
        "### **🔹 Ejemplo 1: Condicional IF**\n",
        "```plaintext\n",
        "💰 = 5️⃣0️⃣  \n",
        "📢(\"¿Cuánto cuesta el producto?\")  \n",
        "🎟️ = 🔢(👀)  \n",
        "\n",
        "🧐 💰 >= 🎟️:  \n",
        "   📢(\"Compra realizada ✅\")  \n",
        "🔚  \n",
        "   📢(\"Fondos insuficientes ❌\")\n",
        "\n",
        "---\n",
        "\n",
        "\n",
        "### **🔹 Ejemplo 2: Lista y Bucle For**\n",
        "```plaintext\n",
        "🍎🍌🍓 = [\"🍎\", \"🍌\", \"🍓\"]  \n",
        "🔄 🍏 in 🍎🍌🍓:  \n",
        "   📢(🍏)  \n",
        "```\n",
        "\n",
        "\n",
        "---\n",
        "\n",
        "### **🔹 Ejemplo 3: Función**\n",
        "```plaintext\n",
        "📦(📄):  \n",
        "   📢(\"Hola \" + 📄 + \" 👋\")  \n",
        "\n",
        "📦(\"Pythonista\")  \n",
        "```\n",
        "\n",
        "\n",
        "---\n",
        "\n",
        "### **🔹 Ejemplo 4: Juego de Adivinanza con While**\n",
        "```plaintext\n",
        "🔢 = 🆕 🎯(1️⃣, 1️⃣0️⃣)  \n",
        "📢(\"Adivina un número entre 1 y 10 🎲\")  \n",
        "💡 = 0️⃣  \n",
        "\n",
        "🔄 💡 != 🔢:  \n",
        "   💡 = 🔢(👀)  \n",
        "   🧐 💡 > 🔢:  \n",
        "      📢(\"Muy alto 🔼\")  \n",
        "   🔚  \n",
        "   🧐 💡 < 🔢:  \n",
        "      📢(\"Muy bajo 🔽\")  \n",
        "   🔚  \n",
        "\n",
        "📢(\"¡Correcto! 🎉\")  \n",
        "```\n",
        "\n",
        "---\n",
        "\n",
        "### **🔹 Ejemplo 5: Contador de Vocales en un Texto**\n",
        "```plaintext\n",
        "📢(\"Escribe una palabra:\")  \n",
        "📝 = 👀  \n",
        "🔢 = 0️⃣  \n",
        "\n",
        "🔄 📄 in 📝:  \n",
        "   🧐 📄 in \"aeiouAEIOU\":  \n",
        "      🔢 += 1️⃣  \n",
        "\n",
        "📢(\"Vocales: \" + 🔢)  \n",
        "```\n",
        "\n"
      ],
      "metadata": {
        "id": "WqvtnN5dU3iI"
      }
    },
    {
      "cell_type": "markdown",
      "source": [
        "💰 = 5️⃣0️⃣  \n",
        "📢(\"¿Cuánto cuesta el producto?\")  \n",
        "🎟️ = 🔢(👀)  \n",
        "\n",
        "🧐 💰 >= 🎟️:  \n",
        "   📢(\"Compra realizada ✅\")  \n",
        "🔚  \n",
        "   📢(\"Fondos insuficientes ❌\")"
      ],
      "metadata": {
        "id": "lMfrykktpBTM"
      }
    },
    {
      "cell_type": "code",
      "source": [
        "dinero = 50\n",
        "print(\"¿Cuánto cuesta el producto?\")\n",
        "ticket = int(input())\n",
        "\n",
        "if dinero >= ticket:\n",
        "  print(\"Compra realizada ✅\")\n",
        "else:\n",
        "  print(\"Fondos insuficientes ❌\")\n"
      ],
      "metadata": {
        "colab": {
          "base_uri": "https://localhost:8080/"
        },
        "id": "TGaUObBypzcc",
        "outputId": "d561f001-a912-4a7e-8436-9c39cb93855c"
      },
      "execution_count": null,
      "outputs": [
        {
          "output_type": "stream",
          "name": "stdout",
          "text": [
            "¿Cuánto cuesta el producto?\n",
            "30\n",
            "Compra realizada ✅\n"
          ]
        }
      ]
    },
    {
      "cell_type": "markdown",
      "source": [],
      "metadata": {
        "id": "FU4D4__7qSPs"
      }
    },
    {
      "cell_type": "code",
      "source": [
        "### **🔹 Ejemplo 2: Lista y Bucle For**\n",
        "```plaintext\n",
        "🍎🍌🍓 = [\"🍎\", \"🍌\", \"🍓\"]\n",
        "🔄 🍏 in 🍎🍌🍓:\n",
        "   📢(🍏)"
      ],
      "metadata": {
        "colab": {
          "base_uri": "https://localhost:8080/",
          "height": 106
        },
        "id": "fbMPVjQJq4M0",
        "outputId": "51185259-44be-4906-d3cd-66c7f733da8d"
      },
      "execution_count": null,
      "outputs": [
        {
          "output_type": "error",
          "ename": "SyntaxError",
          "evalue": "invalid character '🍎' (U+1F34E) (<ipython-input-6-b6bab6ccf6aa>, line 3)",
          "traceback": [
            "\u001b[0;36m  File \u001b[0;32m\"<ipython-input-6-b6bab6ccf6aa>\"\u001b[0;36m, line \u001b[0;32m3\u001b[0m\n\u001b[0;31m    🍎🍌🍓 = [\"🍎\", \"🍌\", \"🍓\"]\u001b[0m\n\u001b[0m    ^\u001b[0m\n\u001b[0;31mSyntaxError\u001b[0m\u001b[0;31m:\u001b[0m invalid character '🍎' (U+1F34E)\n"
          ]
        }
      ]
    },
    {
      "cell_type": "code",
      "source": [
        "frutas = [\"manzana\", \"pera\", \"uva\"]\n",
        "for fruta in frutas:\n",
        "  print(fruta)"
      ],
      "metadata": {
        "colab": {
          "base_uri": "https://localhost:8080/"
        },
        "id": "_vbIoZgTq8Qc",
        "outputId": "64232680-e896-498f-b06f-b18edf2116c3"
      },
      "execution_count": null,
      "outputs": [
        {
          "output_type": "stream",
          "name": "stdout",
          "text": [
            "manzana\n",
            "pera\n",
            "uva\n"
          ]
        }
      ]
    }
  ]
}